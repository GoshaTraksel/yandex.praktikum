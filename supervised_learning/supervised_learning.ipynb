{
 "cells": [
  {
   "cell_type": "markdown",
   "metadata": {},
   "source": [
    "# Описание\n",
    "Из «Бета-Банка» стали уходить клиенты. Каждый месяц. Немного, но заметно. Банковские маркетологи посчитали: сохранять текущих клиентов дешевле, чем привлекать новых.\n",
    "Нужно спрогнозировать, уйдёт клиент из банка в ближайшее время или нет. Вам предоставлены исторические данные о поведении клиентов и расторжении договоров с банком.\n",
    "Постройте модель с предельно большим значением F1-меры. Чтобы сдать проект успешно, нужно довести метрику до 0.59. Проверьте F1-меру на тестовой выборке самостоятельно.\n",
    "Дополнительно измеряйте AUC-ROC, сравнивайте её значение с F1-мерой."
   ]
  },
  {
   "cell_type": "markdown",
   "metadata": {},
   "source": [
    "# Подготовка данных"
   ]
  },
  {
   "cell_type": "code",
   "execution_count": 1,
   "metadata": {},
   "outputs": [],
   "source": [
    "import pandas as pd\n",
    "from sklearn.model_selection import train_test_split\n",
    "from sklearn.linear_model import LogisticRegression\n",
    "from sklearn.tree import DecisionTreeClassifier\n",
    "from sklearn.ensemble import RandomForestClassifier\n",
    "from sklearn.metrics import f1_score\n",
    "from sklearn.preprocessing import StandardScaler\n",
    "from sklearn.utils import shuffle\n",
    "from sklearn.metrics import roc_auc_score\n",
    "from sklearn.model_selection import GridSearchCV"
   ]
  },
  {
   "cell_type": "code",
   "execution_count": 2,
   "metadata": {},
   "outputs": [],
   "source": [
    "# загружаем данные в переменную df\n",
    "df = pd.read_csv('/datasets/Churn.csv')"
   ]
  },
  {
   "cell_type": "code",
   "execution_count": 3,
   "metadata": {},
   "outputs": [
    {
     "name": "stdout",
     "output_type": "stream",
     "text": [
      "Размер таблицы: (10000, 14)\n",
      "\n",
      "Пропуски:\n",
      "RowNumber            0\n",
      "CustomerId           0\n",
      "Surname              0\n",
      "CreditScore          0\n",
      "Geography            0\n",
      "Gender               0\n",
      "Age                  0\n",
      "Tenure             909\n",
      "Balance              0\n",
      "NumOfProducts        0\n",
      "HasCrCard            0\n",
      "IsActiveMember       0\n",
      "EstimatedSalary      0\n",
      "Exited               0\n",
      "dtype: int64 \n",
      "\n",
      "<class 'pandas.core.frame.DataFrame'>\n",
      "RangeIndex: 10000 entries, 0 to 9999\n",
      "Data columns (total 14 columns):\n",
      " #   Column           Non-Null Count  Dtype  \n",
      "---  ------           --------------  -----  \n",
      " 0   RowNumber        10000 non-null  int64  \n",
      " 1   CustomerId       10000 non-null  int64  \n",
      " 2   Surname          10000 non-null  object \n",
      " 3   CreditScore      10000 non-null  int64  \n",
      " 4   Geography        10000 non-null  object \n",
      " 5   Gender           10000 non-null  object \n",
      " 6   Age              10000 non-null  int64  \n",
      " 7   Tenure           9091 non-null   float64\n",
      " 8   Balance          10000 non-null  float64\n",
      " 9   NumOfProducts    10000 non-null  int64  \n",
      " 10  HasCrCard        10000 non-null  int64  \n",
      " 11  IsActiveMember   10000 non-null  int64  \n",
      " 12  EstimatedSalary  10000 non-null  float64\n",
      " 13  Exited           10000 non-null  int64  \n",
      "dtypes: float64(3), int64(8), object(3)\n",
      "memory usage: 976.6+ KB\n",
      "None\n"
     ]
    },
    {
     "data": {
      "text/html": [
       "<div>\n",
       "<style scoped>\n",
       "    .dataframe tbody tr th:only-of-type {\n",
       "        vertical-align: middle;\n",
       "    }\n",
       "\n",
       "    .dataframe tbody tr th {\n",
       "        vertical-align: top;\n",
       "    }\n",
       "\n",
       "    .dataframe thead th {\n",
       "        text-align: right;\n",
       "    }\n",
       "</style>\n",
       "<table border=\"1\" class=\"dataframe\">\n",
       "  <thead>\n",
       "    <tr style=\"text-align: right;\">\n",
       "      <th></th>\n",
       "      <th>RowNumber</th>\n",
       "      <th>CustomerId</th>\n",
       "      <th>Surname</th>\n",
       "      <th>CreditScore</th>\n",
       "      <th>Geography</th>\n",
       "      <th>Gender</th>\n",
       "      <th>Age</th>\n",
       "      <th>Tenure</th>\n",
       "      <th>Balance</th>\n",
       "      <th>NumOfProducts</th>\n",
       "      <th>HasCrCard</th>\n",
       "      <th>IsActiveMember</th>\n",
       "      <th>EstimatedSalary</th>\n",
       "      <th>Exited</th>\n",
       "    </tr>\n",
       "  </thead>\n",
       "  <tbody>\n",
       "    <tr>\n",
       "      <th>0</th>\n",
       "      <td>1</td>\n",
       "      <td>15634602</td>\n",
       "      <td>Hargrave</td>\n",
       "      <td>619</td>\n",
       "      <td>France</td>\n",
       "      <td>Female</td>\n",
       "      <td>42</td>\n",
       "      <td>2.0</td>\n",
       "      <td>0.00</td>\n",
       "      <td>1</td>\n",
       "      <td>1</td>\n",
       "      <td>1</td>\n",
       "      <td>101348.88</td>\n",
       "      <td>1</td>\n",
       "    </tr>\n",
       "    <tr>\n",
       "      <th>1</th>\n",
       "      <td>2</td>\n",
       "      <td>15647311</td>\n",
       "      <td>Hill</td>\n",
       "      <td>608</td>\n",
       "      <td>Spain</td>\n",
       "      <td>Female</td>\n",
       "      <td>41</td>\n",
       "      <td>1.0</td>\n",
       "      <td>83807.86</td>\n",
       "      <td>1</td>\n",
       "      <td>0</td>\n",
       "      <td>1</td>\n",
       "      <td>112542.58</td>\n",
       "      <td>0</td>\n",
       "    </tr>\n",
       "    <tr>\n",
       "      <th>2</th>\n",
       "      <td>3</td>\n",
       "      <td>15619304</td>\n",
       "      <td>Onio</td>\n",
       "      <td>502</td>\n",
       "      <td>France</td>\n",
       "      <td>Female</td>\n",
       "      <td>42</td>\n",
       "      <td>8.0</td>\n",
       "      <td>159660.80</td>\n",
       "      <td>3</td>\n",
       "      <td>1</td>\n",
       "      <td>0</td>\n",
       "      <td>113931.57</td>\n",
       "      <td>1</td>\n",
       "    </tr>\n",
       "    <tr>\n",
       "      <th>3</th>\n",
       "      <td>4</td>\n",
       "      <td>15701354</td>\n",
       "      <td>Boni</td>\n",
       "      <td>699</td>\n",
       "      <td>France</td>\n",
       "      <td>Female</td>\n",
       "      <td>39</td>\n",
       "      <td>1.0</td>\n",
       "      <td>0.00</td>\n",
       "      <td>2</td>\n",
       "      <td>0</td>\n",
       "      <td>0</td>\n",
       "      <td>93826.63</td>\n",
       "      <td>0</td>\n",
       "    </tr>\n",
       "    <tr>\n",
       "      <th>4</th>\n",
       "      <td>5</td>\n",
       "      <td>15737888</td>\n",
       "      <td>Mitchell</td>\n",
       "      <td>850</td>\n",
       "      <td>Spain</td>\n",
       "      <td>Female</td>\n",
       "      <td>43</td>\n",
       "      <td>2.0</td>\n",
       "      <td>125510.82</td>\n",
       "      <td>1</td>\n",
       "      <td>1</td>\n",
       "      <td>1</td>\n",
       "      <td>79084.10</td>\n",
       "      <td>0</td>\n",
       "    </tr>\n",
       "  </tbody>\n",
       "</table>\n",
       "</div>"
      ],
      "text/plain": [
       "   RowNumber  CustomerId   Surname  CreditScore Geography  Gender  Age  \\\n",
       "0          1    15634602  Hargrave          619    France  Female   42   \n",
       "1          2    15647311      Hill          608     Spain  Female   41   \n",
       "2          3    15619304      Onio          502    France  Female   42   \n",
       "3          4    15701354      Boni          699    France  Female   39   \n",
       "4          5    15737888  Mitchell          850     Spain  Female   43   \n",
       "\n",
       "   Tenure    Balance  NumOfProducts  HasCrCard  IsActiveMember  \\\n",
       "0     2.0       0.00              1          1               1   \n",
       "1     1.0   83807.86              1          0               1   \n",
       "2     8.0  159660.80              3          1               0   \n",
       "3     1.0       0.00              2          0               0   \n",
       "4     2.0  125510.82              1          1               1   \n",
       "\n",
       "   EstimatedSalary  Exited  \n",
       "0        101348.88       1  \n",
       "1        112542.58       0  \n",
       "2        113931.57       1  \n",
       "3         93826.63       0  \n",
       "4         79084.10       0  "
      ]
     },
     "execution_count": 3,
     "metadata": {},
     "output_type": "execute_result"
    }
   ],
   "source": [
    "# смотрим размер таблицы, пропуски и вид таблицы\n",
    "print('Размер таблицы: {}\\n\\nПропуски:\\n{}'\n",
    "      .format(df.shape, df.isnull().sum()), '\\n')\n",
    "print(df.info())\n",
    "df.head()"
   ]
  },
  {
   "cell_type": "code",
   "execution_count": 4,
   "metadata": {},
   "outputs": [
    {
     "name": "stdout",
     "output_type": "stream",
     "text": [
      "Уникальные значения:\n",
      "1.0     952\n",
      "2.0     950\n",
      "8.0     933\n",
      "3.0     928\n",
      "5.0     927\n",
      "7.0     925\n",
      "4.0     885\n",
      "9.0     882\n",
      "6.0     881\n",
      "10.0    446\n",
      "0.0     382\n",
      "Name: Tenure, dtype: int64\n",
      "[ 2.  1.  8.  7.  4.  6.  3. 10.  5.  9.  0. nan]\n",
      "\n",
      "Процент пропусков: 9.09%\n"
     ]
    }
   ],
   "source": [
    "# смотрим уникальные значения в столбце, где есть пропуски\n",
    "print('Уникальные значения:\\n{}\\n{}\\n\\nПроцент пропусков: {:.2%}'\n",
    "      .format(df['Tenure'].value_counts(), df['Tenure']\n",
    "              .unique(), df['Tenure'].isna().sum() / len(df)))"
   ]
  },
  {
   "cell_type": "code",
   "execution_count": 5,
   "metadata": {},
   "outputs": [
    {
     "data": {
      "text/plain": [
       "0"
      ]
     },
     "execution_count": 5,
     "metadata": {},
     "output_type": "execute_result"
    }
   ],
   "source": [
    "# дубликаты в UID, если есть, то в теории пропуски Tenure будет возможно заполнить\n",
    "df['CustomerId'].duplicated().sum()"
   ]
  },
  {
   "cell_type": "code",
   "execution_count": 6,
   "metadata": {},
   "outputs": [],
   "source": [
    "# удаляем пропуски\n",
    "df.dropna(inplace=True)"
   ]
  },
  {
   "cell_type": "code",
   "execution_count": 7,
   "metadata": {},
   "outputs": [
    {
     "data": {
      "text/html": [
       "<div>\n",
       "<style scoped>\n",
       "    .dataframe tbody tr th:only-of-type {\n",
       "        vertical-align: middle;\n",
       "    }\n",
       "\n",
       "    .dataframe tbody tr th {\n",
       "        vertical-align: top;\n",
       "    }\n",
       "\n",
       "    .dataframe thead th {\n",
       "        text-align: right;\n",
       "    }\n",
       "</style>\n",
       "<table border=\"1\" class=\"dataframe\">\n",
       "  <thead>\n",
       "    <tr style=\"text-align: right;\">\n",
       "      <th></th>\n",
       "      <th>CreditScore</th>\n",
       "      <th>Age</th>\n",
       "      <th>Tenure</th>\n",
       "      <th>Balance</th>\n",
       "      <th>NumOfProducts</th>\n",
       "      <th>HasCrCard</th>\n",
       "      <th>IsActiveMember</th>\n",
       "      <th>EstimatedSalary</th>\n",
       "      <th>Exited</th>\n",
       "      <th>Geography_Germany</th>\n",
       "      <th>Geography_Spain</th>\n",
       "      <th>Gender_Male</th>\n",
       "    </tr>\n",
       "  </thead>\n",
       "  <tbody>\n",
       "    <tr>\n",
       "      <th>0</th>\n",
       "      <td>619</td>\n",
       "      <td>42</td>\n",
       "      <td>2.0</td>\n",
       "      <td>0.00</td>\n",
       "      <td>1</td>\n",
       "      <td>1</td>\n",
       "      <td>1</td>\n",
       "      <td>101348.88</td>\n",
       "      <td>1</td>\n",
       "      <td>0</td>\n",
       "      <td>0</td>\n",
       "      <td>0</td>\n",
       "    </tr>\n",
       "    <tr>\n",
       "      <th>1</th>\n",
       "      <td>608</td>\n",
       "      <td>41</td>\n",
       "      <td>1.0</td>\n",
       "      <td>83807.86</td>\n",
       "      <td>1</td>\n",
       "      <td>0</td>\n",
       "      <td>1</td>\n",
       "      <td>112542.58</td>\n",
       "      <td>0</td>\n",
       "      <td>0</td>\n",
       "      <td>1</td>\n",
       "      <td>0</td>\n",
       "    </tr>\n",
       "    <tr>\n",
       "      <th>2</th>\n",
       "      <td>502</td>\n",
       "      <td>42</td>\n",
       "      <td>8.0</td>\n",
       "      <td>159660.80</td>\n",
       "      <td>3</td>\n",
       "      <td>1</td>\n",
       "      <td>0</td>\n",
       "      <td>113931.57</td>\n",
       "      <td>1</td>\n",
       "      <td>0</td>\n",
       "      <td>0</td>\n",
       "      <td>0</td>\n",
       "    </tr>\n",
       "    <tr>\n",
       "      <th>3</th>\n",
       "      <td>699</td>\n",
       "      <td>39</td>\n",
       "      <td>1.0</td>\n",
       "      <td>0.00</td>\n",
       "      <td>2</td>\n",
       "      <td>0</td>\n",
       "      <td>0</td>\n",
       "      <td>93826.63</td>\n",
       "      <td>0</td>\n",
       "      <td>0</td>\n",
       "      <td>0</td>\n",
       "      <td>0</td>\n",
       "    </tr>\n",
       "    <tr>\n",
       "      <th>4</th>\n",
       "      <td>850</td>\n",
       "      <td>43</td>\n",
       "      <td>2.0</td>\n",
       "      <td>125510.82</td>\n",
       "      <td>1</td>\n",
       "      <td>1</td>\n",
       "      <td>1</td>\n",
       "      <td>79084.10</td>\n",
       "      <td>0</td>\n",
       "      <td>0</td>\n",
       "      <td>1</td>\n",
       "      <td>0</td>\n",
       "    </tr>\n",
       "  </tbody>\n",
       "</table>\n",
       "</div>"
      ],
      "text/plain": [
       "   CreditScore  Age  Tenure    Balance  NumOfProducts  HasCrCard  \\\n",
       "0          619   42     2.0       0.00              1          1   \n",
       "1          608   41     1.0   83807.86              1          0   \n",
       "2          502   42     8.0  159660.80              3          1   \n",
       "3          699   39     1.0       0.00              2          0   \n",
       "4          850   43     2.0  125510.82              1          1   \n",
       "\n",
       "   IsActiveMember  EstimatedSalary  Exited  Geography_Germany  \\\n",
       "0               1        101348.88       1                  0   \n",
       "1               1        112542.58       0                  0   \n",
       "2               0        113931.57       1                  0   \n",
       "3               0         93826.63       0                  0   \n",
       "4               1         79084.10       0                  0   \n",
       "\n",
       "   Geography_Spain  Gender_Male  \n",
       "0                0            0  \n",
       "1                1            0  \n",
       "2                0            0  \n",
       "3                0            0  \n",
       "4                1            0  "
      ]
     },
     "execution_count": 7,
     "metadata": {},
     "output_type": "execute_result"
    }
   ],
   "source": [
    "# удаление столбца с id строки, фамилией клиента в переменную df_ohe\n",
    "# основной датасет не изменяется\n",
    "df_ohe = df.drop(['RowNumber', 'Surname', 'CustomerId'], axis=1)\n",
    "# кодируем категориальные признаки в численные\n",
    "df_ohe = pd.get_dummies(df_ohe, drop_first=True)\n",
    "df_ohe.head()"
   ]
  },
  {
   "cell_type": "code",
   "execution_count": 8,
   "metadata": {},
   "outputs": [],
   "source": [
    "# сохраним в переменные наши признаки для обучения модели и целевой признак\n",
    "features = df_ohe.drop(['Exited'], axis=1)\n",
    "target = df_ohe['Exited']"
   ]
  },
  {
   "cell_type": "code",
   "execution_count": 9,
   "metadata": {},
   "outputs": [
    {
     "name": "stdout",
     "output_type": "stream",
     "text": [
      "Train: (5454, 11) (5454,)\n",
      "Valid: (1818, 11) (1818,)\n",
      "Test:  (1819, 11) (1819,)\n"
     ]
    }
   ],
   "source": [
    "# делим датасет на части 3:1:1\n",
    "# train = 60%, valid и test = 20%\n",
    "features_train, features_valid, target_train, target_valid = train_test_split(\n",
    "    features, target, test_size=0.4, random_state=12345\n",
    ")\n",
    "features_valid, features_test, target_valid, target_test = train_test_split(\n",
    "    features_valid, target_valid, test_size=0.5, random_state=12345\n",
    ")\n",
    "# посмотрим на размер наших выборок\n",
    "print('Train: {} {}\\nValid: {} {}\\nTest:  {} {}'\n",
    "      .format(features_train.shape, target_train.shape, features_valid.shape,\n",
    "              target_valid.shape, features_test.shape, target_test.shape))"
   ]
  },
  {
   "cell_type": "code",
   "execution_count": 10,
   "metadata": {},
   "outputs": [
    {
     "name": "stderr",
     "output_type": "stream",
     "text": [
      "<ipython-input-10-b5fad901d017>:4: SettingWithCopyWarning: \n",
      "A value is trying to be set on a copy of a slice from a DataFrame.\n",
      "Try using .loc[row_indexer,col_indexer] = value instead\n",
      "\n",
      "See the caveats in the documentation: https://pandas.pydata.org/pandas-docs/stable/user_guide/indexing.html#returning-a-view-versus-a-copy\n",
      "  features_train[numeric] = scaler.transform(features_train[numeric])\n",
      "c:\\users\\user\\appdata\\local\\programs\\python\\python38-32\\lib\\site-packages\\pandas\\core\\indexing.py:966: SettingWithCopyWarning: \n",
      "A value is trying to be set on a copy of a slice from a DataFrame.\n",
      "Try using .loc[row_indexer,col_indexer] = value instead\n",
      "\n",
      "See the caveats in the documentation: https://pandas.pydata.org/pandas-docs/stable/user_guide/indexing.html#returning-a-view-versus-a-copy\n",
      "  self.obj[item] = s\n"
     ]
    }
   ],
   "source": [
    "scaler = StandardScaler()\n",
    "numeric = ['CreditScore', 'Age', 'Tenure', 'Balance', 'NumOfProducts', 'EstimatedSalary']\n",
    "scaler.fit(features_train[numeric])\n",
    "features_train[numeric] = scaler.transform(features_train[numeric])\n",
    "features_valid[numeric] = scaler.transform(features_valid[numeric])\n",
    "features_test[numeric] = scaler.transform(features_test[numeric])"
   ]
  },
  {
   "cell_type": "code",
   "execution_count": 11,
   "metadata": {},
   "outputs": [
    {
     "data": {
      "text/plain": [
       "0    0.793546\n",
       "1    0.206454\n",
       "Name: Exited, dtype: float64"
      ]
     },
     "execution_count": 11,
     "metadata": {},
     "output_type": "execute_result"
    }
   ],
   "source": [
    "# посмотрим на баланс классов\n",
    "target_train.value_counts(normalize=True)"
   ]
  },
  {
   "cell_type": "markdown",
   "metadata": {},
   "source": [
    "# Подготовка данных\n",
    "\n",
    "На данном этапе мы избавились от пропусков(909) в столбце Tenure. Разделили датасет на обучающие выборки и стандартизировали колличественные признаки, чтобы избежать ловушки с переоцениванием. Стоит отметить, что мы работаем с несбалансированными классами в целевом признаке Exited. Class1(0) = 80%, Class2(1) = 20%, посмотрим как наши модели ведут себя в ситуациях с дисблансом и наоборот, когда классы сбалансированы"
   ]
  },
  {
   "cell_type": "markdown",
   "metadata": {},
   "source": [
    "# Исследование"
   ]
  },
  {
   "cell_type": "code",
   "execution_count": 12,
   "metadata": {},
   "outputs": [],
   "source": [
    "def upsample(features, target, repeat):\n",
    "    features_zeros = features[target == 0]\n",
    "    features_ones = features[target == 1]\n",
    "    target_zeros = target[target == 0]\n",
    "    target_ones = target[target == 1]\n",
    "\n",
    "    features_upsampled = pd.concat([features_zeros] + [features_ones] * repeat)\n",
    "    target_upsampled = pd.concat([target_zeros] + [target_ones] * repeat)\n",
    "    \n",
    "    features_upsampled, target_upsampled = shuffle(\n",
    "        features_upsampled, target_upsampled, random_state=12345)\n",
    "    \n",
    "    return features_upsampled, target_upsampled"
   ]
  },
  {
   "cell_type": "code",
   "execution_count": 13,
   "metadata": {},
   "outputs": [],
   "source": [
    "features_upsampled, target_upsampled = upsample(features_train, target_train, 5) # тут оказывается нужно задать значение 5 и данные будут близко к 1:1"
   ]
  },
  {
   "cell_type": "code",
   "execution_count": 14,
   "metadata": {},
   "outputs": [
    {
     "name": "stdout",
     "output_type": "stream",
     "text": [
      "Баланс классов после увеличения выборки:\n",
      "1    0.565375\n",
      "0    0.434625\n",
      "Name: Exited, dtype: float64\n"
     ]
    }
   ],
   "source": [
    "print('Баланс классов после увеличения выборки:\\n{}'\n",
    "      .format(target_upsampled.value_counts(normalize=True)))"
   ]
  },
  {
   "cell_type": "code",
   "execution_count": 15,
   "metadata": {},
   "outputs": [],
   "source": [
    "def downsample(features, target, fraction):\n",
    "    features_zeros = features[target == 0]\n",
    "    features_ones = features[target == 1]\n",
    "    target_zeros = target[target == 0]\n",
    "    target_ones = target[target == 1]\n",
    "\n",
    "    features_downsampled = pd.concat(\n",
    "        [features_zeros.sample(frac=fraction, random_state=12345)] + [features_ones])\n",
    "    target_downsampled = pd.concat(\n",
    "        [target_zeros.sample(frac=fraction, random_state=12345)] + [target_ones])\n",
    "    features_downsampled, target_downsampled = shuffle(\n",
    "        features_downsampled, target_downsampled, random_state=12345)\n",
    "    \n",
    "    return features_downsampled, target_downsampled"
   ]
  },
  {
   "cell_type": "code",
   "execution_count": 16,
   "metadata": {},
   "outputs": [],
   "source": [
    "features_downsampled, target_downsampled = downsample(features_train, target_train, 0.2) # а тут нужно задать значение 0.2 и данные будут близко к 1:1"
   ]
  },
  {
   "cell_type": "code",
   "execution_count": 17,
   "metadata": {},
   "outputs": [
    {
     "name": "stdout",
     "output_type": "stream",
     "text": [
      "Баланс классов после уменьшения выборки:\n",
      "1    0.565261\n",
      "0    0.434739\n",
      "Name: Exited, dtype: float64\n"
     ]
    }
   ],
   "source": [
    "print('Баланс классов после уменьшения выборки:\\n{}'\n",
    "      .format(target_downsampled.value_counts(normalize=True)))"
   ]
  },
  {
   "cell_type": "markdown",
   "metadata": {},
   "source": [
    "# LogisticRegression"
   ]
  },
  {
   "cell_type": "code",
   "execution_count": 18,
   "metadata": {},
   "outputs": [
    {
     "name": "stdout",
     "output_type": "stream",
     "text": [
      "F1-score: 0.30400000000000005\n",
      "ROC-AUC: 0.7736191158144302\n"
     ]
    }
   ],
   "source": [
    "# результат с дисбалансом в классах\n",
    "model = LogisticRegression(solver='liblinear', random_state=12345)\n",
    "model.fit(features_train, target_train)\n",
    "predicted_valid = model.predict(features_valid)\n",
    "score = f1_score(target_valid, predicted_valid)\n",
    "\n",
    "probabilities_valid = model.predict_proba(features_valid)\n",
    "probabilities_one_valid = probabilities_valid[:, 1]\n",
    "roc_score = roc_auc_score(target_valid, probabilities_one_valid)\n",
    "\n",
    "print('F1-score: {}\\nROC-AUC: {}'.format(score, roc_score))"
   ]
  },
  {
   "cell_type": "code",
   "execution_count": 19,
   "metadata": {},
   "outputs": [
    {
     "name": "stdout",
     "output_type": "stream",
     "text": [
      "F1-score: 0.509731232622799\n",
      "ROC-AUC: 0.7777884132187896\n"
     ]
    }
   ],
   "source": [
    "# результат с балансом в классах, параметр class_weight = 'balanced'\n",
    "model = LogisticRegression(class_weight='balanced', solver='liblinear', random_state=12345)\n",
    "model.fit(features_train, target_train)\n",
    "predicted_valid = model.predict(features_valid)\n",
    "score = f1_score(target_valid, predicted_valid)\n",
    "\n",
    "probabilities_valid = model.predict_proba(features_valid)\n",
    "probabilities_one_valid = probabilities_valid[:, 1]\n",
    "roc_score = roc_auc_score(target_valid, probabilities_one_valid)\n",
    "\n",
    "print('F1-score: {}\\nROC-AUC: {}'.format(score, roc_score))"
   ]
  },
  {
   "cell_type": "code",
   "execution_count": 20,
   "metadata": {},
   "outputs": [
    {
     "name": "stdout",
     "output_type": "stream",
     "text": [
      "F1-score: 0.4867042707493956\n",
      "ROC-AUC: 0.7783111860500647\n"
     ]
    }
   ],
   "source": [
    "# результат с балансом в классах, увеличенная выборка\n",
    "model = LogisticRegression(solver='liblinear', random_state=12345)\n",
    "model.fit(features_upsampled, target_upsampled)\n",
    "predicted_valid = model.predict(features_valid)\n",
    "score = f1_score(target_valid, predicted_valid)\n",
    "\n",
    "probabilities_valid = model.predict_proba(features_valid)\n",
    "probabilities_one_valid = probabilities_valid[:, 1]\n",
    "roc_score = roc_auc_score(target_valid, probabilities_one_valid)\n",
    "\n",
    "print('F1-score: {}\\nROC-AUC: {}'.format(score, roc_score))"
   ]
  },
  {
   "cell_type": "code",
   "execution_count": 21,
   "metadata": {},
   "outputs": [
    {
     "name": "stdout",
     "output_type": "stream",
     "text": [
      "F1-score: 0.48878205128205127\n",
      "ROC-AUC: 0.7786682914348089\n"
     ]
    }
   ],
   "source": [
    "# результат с балансом в классах, уменьшенная выборка\n",
    "model = LogisticRegression(solver='liblinear', random_state=12345)\n",
    "model.fit(features_downsampled, target_downsampled)\n",
    "predicted_valid = model.predict(features_valid)\n",
    "score = f1_score(target_valid, predicted_valid)\n",
    "\n",
    "probabilities_valid = model.predict_proba(features_valid)\n",
    "probabilities_one_valid = probabilities_valid[:, 1]\n",
    "roc_score = roc_auc_score(target_valid, probabilities_one_valid)\n",
    "\n",
    "print('F1-score: {}\\nROC-AUC: {}'.format(score, roc_score))"
   ]
  },
  {
   "cell_type": "markdown",
   "metadata": {},
   "source": [
    "# DecisionTreeClassifier"
   ]
  },
  {
   "cell_type": "code",
   "execution_count": 22,
   "metadata": {},
   "outputs": [
    {
     "name": "stdout",
     "output_type": "stream",
     "text": [
      "Depth: 3\n",
      "F1-score: 0.3726708074534161\n",
      "ROC-AUC: 0.7994383873562604\n",
      "\n",
      "Depth: 5\n",
      "F1-score: 0.5140712945590994\n",
      "ROC-AUC: 0.8471027524725867\n",
      "\n",
      "Depth: 7\n",
      "F1-score: 0.5764331210191083\n",
      "ROC-AUC: 0.8346049843812412\n",
      "\n",
      "Depth: 9\n",
      "F1-score: 0.5446153846153846\n",
      "ROC-AUC: 0.794063399091038\n",
      "\n",
      "Depth: 11\n",
      "F1-score: 0.5128205128205129\n",
      "ROC-AUC: 0.7138168491156119\n",
      "\n",
      "Depth: 13\n",
      "F1-score: 0.4825662482566248\n",
      "ROC-AUC: 0.6805002052435589\n",
      "\n",
      "Depth: 15\n",
      "F1-score: 0.47411444141689374\n",
      "ROC-AUC: 0.6718339570405903\n",
      "\n"
     ]
    }
   ],
   "source": [
    "# результат с дисбалансом в классах\n",
    "for depth in range(3, 16, 2):\n",
    "    model = DecisionTreeClassifier(max_depth=depth, random_state=12345)\n",
    "    model.fit(features_train, target_train)\n",
    "    predicted_valid = model.predict(features_valid)\n",
    "    score = f1_score(target_valid, predicted_valid)\n",
    "    \n",
    "    probabilities_valid = model.predict_proba(features_valid)\n",
    "    probabilities_one_valid = probabilities_valid[:, 1]\n",
    "    roc_score = roc_auc_score(target_valid, probabilities_one_valid)\n",
    "    \n",
    "    print('Depth: {}\\nF1-score: {}\\nROC-AUC: {}\\n'.format(depth, score, roc_score))"
   ]
  },
  {
   "cell_type": "code",
   "execution_count": 23,
   "metadata": {},
   "outputs": [
    {
     "name": "stdout",
     "output_type": "stream",
     "text": [
      "Depth: 3\n",
      "F1-score: 0.548936170212766\n",
      "ROC-AUC: 0.7949267105624042\n",
      "\n",
      "Depth: 5\n",
      "F1-score: 0.5735449735449736\n",
      "ROC-AUC: 0.8396523192522141\n",
      "\n",
      "Depth: 7\n",
      "F1-score: 0.5413533834586466\n",
      "ROC-AUC: 0.8106043732524385\n",
      "\n",
      "Depth: 9\n",
      "F1-score: 0.5059978189749182\n",
      "ROC-AUC: 0.7565295983300722\n",
      "\n",
      "Depth: 11\n",
      "F1-score: 0.5123595505617977\n",
      "ROC-AUC: 0.7135416570794302\n",
      "\n",
      "Depth: 13\n",
      "F1-score: 0.4882280049566295\n",
      "ROC-AUC: 0.6767864933171592\n",
      "\n",
      "Depth: 15\n",
      "F1-score: 0.4725848563968668\n",
      "ROC-AUC: 0.6659481608152311\n",
      "\n"
     ]
    }
   ],
   "source": [
    "# результат с балансом в классах, параметр class_weight = 'balanced'\n",
    "for depth in range(3, 16, 2):\n",
    "    model = DecisionTreeClassifier(class_weight='balanced', max_depth=depth, random_state=12345)\n",
    "    model.fit(features_train, target_train)\n",
    "    predicted_valid = model.predict(features_valid)\n",
    "    score = f1_score(target_valid, predicted_valid)\n",
    "    \n",
    "    probabilities_valid = model.predict_proba(features_valid)\n",
    "    probabilities_one_valid = probabilities_valid[:, 1]\n",
    "    roc_score = roc_auc_score(target_valid, probabilities_one_valid)\n",
    "    \n",
    "    print('Depth: {}\\nF1-score: {}\\nROC-AUC: {}\\n'.format(depth, score, roc_score))"
   ]
  },
  {
   "cell_type": "code",
   "execution_count": 24,
   "metadata": {},
   "outputs": [
    {
     "name": "stdout",
     "output_type": "stream",
     "text": [
      "Depth: 3\n",
      "F1-score: 0.5644599303135889\n",
      "ROC-AUC: 0.808227045394721\n",
      "\n",
      "Depth: 5\n",
      "F1-score: 0.5628415300546449\n",
      "ROC-AUC: 0.8525219187235507\n",
      "\n",
      "Depth: 7\n",
      "F1-score: 0.5583566760037347\n",
      "ROC-AUC: 0.820662228006266\n",
      "\n",
      "Depth: 9\n",
      "F1-score: 0.5303760848601736\n",
      "ROC-AUC: 0.7658428699492139\n",
      "\n",
      "Depth: 11\n",
      "F1-score: 0.5151832460732985\n",
      "ROC-AUC: 0.7257439848911288\n",
      "\n",
      "Depth: 13\n",
      "F1-score: 0.513953488372093\n",
      "ROC-AUC: 0.7156511558985894\n",
      "\n",
      "Depth: 15\n",
      "F1-score: 0.5126262626262627\n",
      "ROC-AUC: 0.6970908796389186\n",
      "\n"
     ]
    }
   ],
   "source": [
    "# результат с балансом в классах, увеличенная выборка\n",
    "for depth in range(3, 16, 2):\n",
    "    model = DecisionTreeClassifier(max_depth=depth, random_state=12345)\n",
    "    model.fit(features_upsampled, target_upsampled)\n",
    "    predicted_valid = model.predict(features_valid)\n",
    "    score = f1_score(target_valid, predicted_valid)\n",
    "    \n",
    "    probabilities_valid = model.predict_proba(features_valid)\n",
    "    probabilities_one_valid = probabilities_valid[:, 1]\n",
    "    roc_score = roc_auc_score(target_valid, probabilities_one_valid)\n",
    "    \n",
    "    print('Depth: {}\\nF1-score: {}\\nROC-AUC: {}\\n'.format(depth, score, roc_score))"
   ]
  },
  {
   "cell_type": "code",
   "execution_count": 25,
   "metadata": {},
   "outputs": [
    {
     "name": "stdout",
     "output_type": "stream",
     "text": [
      "Depth: 3\n",
      "F1-score: 0.5644599303135889\n",
      "ROC-AUC: 0.7960127527118841\n",
      "\n",
      "Depth: 5\n",
      "F1-score: 0.5485519591141397\n",
      "ROC-AUC: 0.8370393754705416\n",
      "\n",
      "Depth: 7\n",
      "F1-score: 0.5516621743036837\n",
      "ROC-AUC: 0.8186328017862632\n",
      "\n",
      "Depth: 9\n",
      "F1-score: 0.5261261261261261\n",
      "ROC-AUC: 0.7805007574683805\n",
      "\n",
      "Depth: 11\n",
      "F1-score: 0.525\n",
      "ROC-AUC: 0.7395192330701675\n",
      "\n",
      "Depth: 13\n",
      "F1-score: 0.5022182786157942\n",
      "ROC-AUC: 0.7207813244928275\n",
      "\n",
      "Depth: 15\n",
      "F1-score: 0.4956369982547993\n",
      "ROC-AUC: 0.7158766477008118\n",
      "\n"
     ]
    }
   ],
   "source": [
    "# результат с балансом в классах, уменьшенная выборка\n",
    "for depth in range(3, 16, 2):\n",
    "    model = DecisionTreeClassifier(max_depth=depth, random_state=12345)\n",
    "    model.fit(features_downsampled, target_downsampled)\n",
    "    predicted_valid = model.predict(features_valid)\n",
    "    score = f1_score(target_valid, predicted_valid)\n",
    "    \n",
    "    probabilities_valid = model.predict_proba(features_valid)\n",
    "    probabilities_one_valid = probabilities_valid[:, 1]\n",
    "    roc_score = roc_auc_score(target_valid, probabilities_one_valid)\n",
    "    \n",
    "    print('Depth: {}\\nF1-score: {}\\nROC-AUC: {}\\n'.format(depth, score, roc_score))"
   ]
  },
  {
   "cell_type": "markdown",
   "metadata": {},
   "source": [
    "# RandomForestClassifier"
   ]
  },
  {
   "cell_type": "code",
   "execution_count": 26,
   "metadata": {},
   "outputs": [
    {
     "name": "stdout",
     "output_type": "stream",
     "text": [
      "Depth: 3\n",
      "F1-score: 0.24537037037037032\n",
      "ROC-AUC: 0.843949548740283\n",
      "\n",
      "Depth: 5\n",
      "F1-score: 0.4924242424242424\n",
      "ROC-AUC: 0.8613685603682972\n",
      "\n",
      "Depth: 7\n",
      "F1-score: 0.5402504472271914\n",
      "ROC-AUC: 0.8683680099842248\n",
      "\n",
      "Depth: 9\n",
      "F1-score: 0.5543859649122806\n",
      "ROC-AUC: 0.8722869654693819\n",
      "\n",
      "Depth: 11\n",
      "F1-score: 0.570940170940171\n",
      "ROC-AUC: 0.8701351294138869\n",
      "\n",
      "Depth: 13\n",
      "F1-score: 0.5748299319727891\n",
      "ROC-AUC: 0.8719519490775085\n",
      "\n",
      "Depth: 15\n",
      "F1-score: 0.5841584158415842\n",
      "ROC-AUC: 0.8661683144441765\n",
      "\n"
     ]
    }
   ],
   "source": [
    "# результат с дисбалансом в классах\n",
    "for depth in range(3, 16, 2):\n",
    "    model = RandomForestClassifier(n_estimators=100, max_depth=depth, random_state=12345)\n",
    "    model.fit(features_train, target_train)\n",
    "    predicted_valid = model.predict(features_valid)\n",
    "    score = f1_score(target_valid, predicted_valid)\n",
    "    \n",
    "    probabilities_valid = model.predict_proba(features_valid)\n",
    "    probabilities_one_valid = probabilities_valid[:, 1]\n",
    "    roc_score = roc_auc_score(target_valid, probabilities_one_valid)\n",
    "    \n",
    "    print('Depth: {}\\nF1-score: {}\\nROC-AUC: {}\\n'.format(depth, score, roc_score))"
   ]
  },
  {
   "cell_type": "code",
   "execution_count": 27,
   "metadata": {},
   "outputs": [
    {
     "name": "stdout",
     "output_type": "stream",
     "text": [
      "Depth: 3\n",
      "F1-score: 0.5864197530864198\n",
      "ROC-AUC: 0.8511671271608097\n",
      "\n",
      "Depth: 5\n",
      "F1-score: 0.5995717344753747\n",
      "ROC-AUC: 0.864318361291249\n",
      "\n",
      "Depth: 7\n",
      "F1-score: 0.6252821670428894\n",
      "ROC-AUC: 0.867819466661267\n",
      "\n",
      "Depth: 9\n",
      "F1-score: 0.6332916145181477\n",
      "ROC-AUC: 0.8695387266063759\n",
      "\n",
      "Depth: 11\n",
      "F1-score: 0.6342141863699583\n",
      "ROC-AUC: 0.8704001973283364\n",
      "\n",
      "Depth: 13\n",
      "F1-score: 0.60625\n",
      "ROC-AUC: 0.8658719537898271\n",
      "\n",
      "Depth: 15\n",
      "F1-score: 0.600326264274062\n",
      "ROC-AUC: 0.8630105088383582\n",
      "\n"
     ]
    }
   ],
   "source": [
    "# результат с балансом в классах, параметр class_weight = 'balanced'\n",
    "for depth in range(3, 16, 2):\n",
    "    model = RandomForestClassifier(class_weight='balanced', n_estimators=100, max_depth=depth, random_state=12345)\n",
    "    model.fit(features_train, target_train)\n",
    "    predicted_valid = model.predict(features_valid)\n",
    "    score = f1_score(target_valid, predicted_valid)\n",
    "    \n",
    "    probabilities_valid = model.predict_proba(features_valid)\n",
    "    probabilities_one_valid = probabilities_valid[:, 1]\n",
    "    roc_score = roc_auc_score(target_valid, probabilities_one_valid)\n",
    "    \n",
    "    print('Depth: {}\\nF1-score: {}\\nROC-AUC: {}\\n'.format(depth, score, roc_score))"
   ]
  },
  {
   "cell_type": "code",
   "execution_count": 28,
   "metadata": {},
   "outputs": [
    {
     "name": "stdout",
     "output_type": "stream",
     "text": [
      "Depth: 3\n",
      "F1-score: 0.5471537807986407\n",
      "ROC-AUC: 0.8475518953276258\n",
      "\n",
      "Depth: 5\n",
      "F1-score: 0.572202166064982\n",
      "ROC-AUC: 0.8623966189114913\n",
      "\n",
      "Depth: 7\n",
      "F1-score: 0.5858778625954199\n",
      "ROC-AUC: 0.8660928437185347\n",
      "\n",
      "Depth: 9\n",
      "F1-score: 0.608515057113188\n",
      "ROC-AUC: 0.8692294807061851\n",
      "\n",
      "Depth: 11\n",
      "F1-score: 0.6214039125431532\n",
      "ROC-AUC: 0.8650896352923202\n",
      "\n",
      "Depth: 13\n",
      "F1-score: 0.6216560509554141\n",
      "ROC-AUC: 0.8630896610628118\n",
      "\n",
      "Depth: 15\n",
      "F1-score: 0.6181318681318682\n",
      "ROC-AUC: 0.860828300417666\n",
      "\n"
     ]
    }
   ],
   "source": [
    "# результат с балансом в классах, увеличенная выборка\n",
    "for depth in range(3, 16, 2):\n",
    "    model = RandomForestClassifier(n_estimators=100, max_depth=depth, random_state=12345)\n",
    "    model.fit(features_upsampled, target_upsampled)\n",
    "    predicted_valid = model.predict(features_valid)\n",
    "    score = f1_score(target_valid, predicted_valid)\n",
    "    \n",
    "    probabilities_valid = model.predict_proba(features_valid)\n",
    "    probabilities_one_valid = probabilities_valid[:, 1]\n",
    "    roc_score = roc_auc_score(target_valid, probabilities_one_valid)\n",
    "    \n",
    "    print('Depth: {}\\nF1-score: {}\\nROC-AUC: {}\\n'.format(depth, score, roc_score))"
   ]
  },
  {
   "cell_type": "code",
   "execution_count": 29,
   "metadata": {},
   "outputs": [
    {
     "name": "stdout",
     "output_type": "stream",
     "text": [
      "Depth: 3\n",
      "F1-score: 0.5314009661835748\n",
      "ROC-AUC: 0.8450972559948606\n",
      "\n",
      "Depth: 5\n",
      "F1-score: 0.5504273504273504\n",
      "ROC-AUC: 0.8615443519365603\n",
      "\n",
      "Depth: 7\n",
      "F1-score: 0.5621716287215411\n",
      "ROC-AUC: 0.8673611200591985\n",
      "\n",
      "Depth: 9\n",
      "F1-score: 0.5654082528533801\n",
      "ROC-AUC: 0.8688097898416404\n",
      "\n",
      "Depth: 11\n",
      "F1-score: 0.5565371024734982\n",
      "ROC-AUC: 0.8677881739213669\n",
      "\n",
      "Depth: 13\n",
      "F1-score: 0.5691202872531419\n",
      "ROC-AUC: 0.86870670787491\n",
      "\n",
      "Depth: 15\n",
      "F1-score: 0.5653333333333332\n",
      "ROC-AUC: 0.8630758554422675\n",
      "\n"
     ]
    }
   ],
   "source": [
    "# результат с балансом в классах, уменьшенная выборка\n",
    "for depth in range(3, 16, 2):\n",
    "    model = RandomForestClassifier(n_estimators=100, max_depth=depth, random_state=12345)\n",
    "    model.fit(features_downsampled, target_downsampled)\n",
    "    predicted_valid = model.predict(features_valid)\n",
    "    score = f1_score(target_valid, predicted_valid)\n",
    "    \n",
    "    probabilities_valid = model.predict_proba(features_valid)\n",
    "    probabilities_one_valid = probabilities_valid[:, 1]\n",
    "    roc_score = roc_auc_score(target_valid, probabilities_one_valid)\n",
    "    \n",
    "    print('Depth: {}\\nF1-score: {}\\nROC-AUC: {}\\n'.format(depth, score, roc_score))"
   ]
  },
  {
   "cell_type": "markdown",
   "metadata": {},
   "source": [
    "# Финальное тестирование"
   ]
  },
  {
   "cell_type": "code",
   "execution_count": 30,
   "metadata": {},
   "outputs": [
    {
     "name": "stdout",
     "output_type": "stream",
     "text": [
      "F1-score: 0.6063829787234043\n",
      "ROC-AUC: 0.8695387266063759\n",
      "\n"
     ]
    }
   ],
   "source": [
    "# результат модели на тестовой выборке\n",
    "model = RandomForestClassifier(class_weight='balanced', n_estimators=100, max_depth=9, random_state=12345)\n",
    "model.fit(features_train, target_train)\n",
    "predicted_test = model.predict(features_test)\n",
    "score = f1_score(target_test, predicted_test)\n",
    "\n",
    "# ROC-AUC score\n",
    "probabilities_valid = model.predict_proba(features_valid)\n",
    "probabilities_one_valid = probabilities_valid[:, 1]\n",
    "roc_score = roc_auc_score(target_valid, probabilities_one_valid)\n",
    "\n",
    "print('F1-score: {}\\nROC-AUC: {}\\n'.format(score, roc_score))"
   ]
  },
  {
   "cell_type": "markdown",
   "metadata": {},
   "source": [
    "# Результаты\n",
    "\n",
    "На тестовой выборке модель RandomForestClassifier показала результат = 60% по F1. Задача была достич 59% по метрике. Параметры: class_weight = 'balanced', n_estimators = 100, max_depth = 9.\n",
    "AUC-ROC = 86%"
   ]
  }
 ],
 "metadata": {
  "kernelspec": {
   "display_name": "Python 3",
   "language": "python",
   "name": "python3"
  },
  "language_info": {
   "codemirror_mode": {
    "name": "ipython",
    "version": 3
   },
   "file_extension": ".py",
   "mimetype": "text/x-python",
   "name": "python",
   "nbconvert_exporter": "python",
   "pygments_lexer": "ipython3",
   "version": "3.8.5"
  }
 },
 "nbformat": 4,
 "nbformat_minor": 4
}
