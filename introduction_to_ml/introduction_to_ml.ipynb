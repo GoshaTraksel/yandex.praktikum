{
 "cells": [
  {
   "cell_type": "markdown",
   "metadata": {},
   "source": [
    "# Описание проекта\n",
    "\n",
    "В вашем распоряжении данные о поведении клиентов, которые уже перешли на эти тарифы (из проекта курса «Статистический анализ данных»). Нужно построить модель для задачи классификации, которая выберет подходящий тариф. Предобработка данных не понадобится — вы её уже сделали.\n",
    "\n",
    "Постройте модель с максимально большим значением *accuracy*. Чтобы сдать проект успешно, нужно довести долю правильных ответов по крайней мере до 0.75. Проверьте *accuracy* на тестовой выборке самостоятельно."
   ]
  },
  {
   "cell_type": "markdown",
   "metadata": {},
   "source": [
    "# Откройте и изучите файл"
   ]
  },
  {
   "cell_type": "code",
   "execution_count": 34,
   "metadata": {},
   "outputs": [],
   "source": [
    "import pandas as pd\n",
    "from sklearn.model_selection import train_test_split\n",
    "from sklearn.tree import DecisionTreeClassifier\n",
    "from sklearn.ensemble import RandomForestClassifier\n",
    "from sklearn.linear_model import LogisticRegression\n",
    "from sklearn.metrics import accuracy_score"
   ]
  },
  {
   "cell_type": "code",
   "execution_count": 4,
   "metadata": {},
   "outputs": [],
   "source": [
    "df = pd.read_csv('users_behavior.csv')"
   ]
  },
  {
   "cell_type": "code",
   "execution_count": 32,
   "metadata": {},
   "outputs": [
    {
     "data": {
      "text/html": [
       "<div>\n",
       "<style scoped>\n",
       "    .dataframe tbody tr th:only-of-type {\n",
       "        vertical-align: middle;\n",
       "    }\n",
       "\n",
       "    .dataframe tbody tr th {\n",
       "        vertical-align: top;\n",
       "    }\n",
       "\n",
       "    .dataframe thead th {\n",
       "        text-align: right;\n",
       "    }\n",
       "</style>\n",
       "<table border=\"1\" class=\"dataframe\">\n",
       "  <thead>\n",
       "    <tr style=\"text-align: right;\">\n",
       "      <th></th>\n",
       "      <th>calls</th>\n",
       "      <th>minutes</th>\n",
       "      <th>messages</th>\n",
       "      <th>mb_used</th>\n",
       "      <th>is_ultra</th>\n",
       "    </tr>\n",
       "  </thead>\n",
       "  <tbody>\n",
       "    <tr>\n",
       "      <th>0</th>\n",
       "      <td>40.0</td>\n",
       "      <td>311.90</td>\n",
       "      <td>83.0</td>\n",
       "      <td>19915.42</td>\n",
       "      <td>0</td>\n",
       "    </tr>\n",
       "    <tr>\n",
       "      <th>1</th>\n",
       "      <td>85.0</td>\n",
       "      <td>516.75</td>\n",
       "      <td>56.0</td>\n",
       "      <td>22696.96</td>\n",
       "      <td>0</td>\n",
       "    </tr>\n",
       "    <tr>\n",
       "      <th>2</th>\n",
       "      <td>77.0</td>\n",
       "      <td>467.66</td>\n",
       "      <td>86.0</td>\n",
       "      <td>21060.45</td>\n",
       "      <td>0</td>\n",
       "    </tr>\n",
       "    <tr>\n",
       "      <th>3</th>\n",
       "      <td>106.0</td>\n",
       "      <td>745.53</td>\n",
       "      <td>81.0</td>\n",
       "      <td>8437.39</td>\n",
       "      <td>1</td>\n",
       "    </tr>\n",
       "    <tr>\n",
       "      <th>4</th>\n",
       "      <td>66.0</td>\n",
       "      <td>418.74</td>\n",
       "      <td>1.0</td>\n",
       "      <td>14502.75</td>\n",
       "      <td>0</td>\n",
       "    </tr>\n",
       "  </tbody>\n",
       "</table>\n",
       "</div>"
      ],
      "text/plain": [
       "   calls  minutes  messages   mb_used  is_ultra\n",
       "0   40.0   311.90      83.0  19915.42         0\n",
       "1   85.0   516.75      56.0  22696.96         0\n",
       "2   77.0   467.66      86.0  21060.45         0\n",
       "3  106.0   745.53      81.0   8437.39         1\n",
       "4   66.0   418.74       1.0  14502.75         0"
      ]
     },
     "execution_count": 32,
     "metadata": {},
     "output_type": "execute_result"
    }
   ],
   "source": [
    "df.head()"
   ]
  },
  {
   "cell_type": "code",
   "execution_count": 33,
   "metadata": {},
   "outputs": [
    {
     "name": "stdout",
     "output_type": "stream",
     "text": [
      "<class 'pandas.core.frame.DataFrame'>\n",
      "RangeIndex: 3214 entries, 0 to 3213\n",
      "Data columns (total 5 columns):\n",
      " #   Column    Non-Null Count  Dtype  \n",
      "---  ------    --------------  -----  \n",
      " 0   calls     3214 non-null   float64\n",
      " 1   minutes   3214 non-null   float64\n",
      " 2   messages  3214 non-null   float64\n",
      " 3   mb_used   3214 non-null   float64\n",
      " 4   is_ultra  3214 non-null   int64  \n",
      "dtypes: float64(4), int64(1)\n",
      "memory usage: 125.6 KB\n"
     ]
    }
   ],
   "source": [
    "df.info()"
   ]
  },
  {
   "cell_type": "markdown",
   "metadata": {},
   "source": [
    "# Разбейте данные на выборки"
   ]
  },
  {
   "cell_type": "code",
   "execution_count": 35,
   "metadata": {},
   "outputs": [],
   "source": [
    "# сохраним в переменную псевдорандомное число\n",
    "rnd_st = 12345"
   ]
  },
  {
   "cell_type": "code",
   "execution_count": 42,
   "metadata": {},
   "outputs": [],
   "source": [
    "# Поделим наш датасет на части\n",
    "# df_train = 60%, df_valid и df_test = 20%\n",
    "# Тем самым наши выборки будут поделены три части 3:1:1\n",
    "df_train, df_valid = train_test_split(df, test_size=0.4, random_state=rnd_st)\n",
    "df_valid, df_test = train_test_split(df_valid, test_size=0.5, random_state=rnd_st)"
   ]
  },
  {
   "cell_type": "markdown",
   "metadata": {},
   "source": [
    "# Исследуйте модели"
   ]
  },
  {
   "cell_type": "code",
   "execution_count": 95,
   "metadata": {},
   "outputs": [],
   "source": [
    "# Подготовим тренировочную и валидационную выборки\n",
    "train_features = df_train.drop(['is_ultra'], axis=1)\n",
    "train_target = df_train['is_ultra']\n",
    "valid_features = df_valid.drop(['is_ultra'], axis=1)\n",
    "valid_target = df_valid['is_ultra']"
   ]
  },
  {
   "cell_type": "code",
   "execution_count": 96,
   "metadata": {},
   "outputs": [],
   "source": [
    "# Напишем функцию, которая расчитывает правильность на валидационной выборке\n",
    "def valid_accuracy_score(model):\n",
    "    valid_predictions = model.predict(valid_features)\n",
    "    return accuracy_score(valid_target, valid_predictions)"
   ]
  },
  {
   "cell_type": "markdown",
   "metadata": {},
   "source": [
    "# Decision tree"
   ]
  },
  {
   "cell_type": "code",
   "execution_count": 97,
   "metadata": {},
   "outputs": [
    {
     "name": "stdout",
     "output_type": "stream",
     "text": [
      "max_depth = 1: 0.7542768273716952\n",
      "max_depth = 2: 0.7822706065318819\n",
      "max_depth = 3: 0.7853810264385692\n",
      "max_depth = 4: 0.7791601866251944\n",
      "max_depth = 5: 0.7791601866251944\n",
      "max_depth = 6: 0.7838258164852255\n",
      "max_depth = 7: 0.7822706065318819\n",
      "max_depth = 8: 0.7791601866251944\n",
      "max_depth = 9: 0.7822706065318819\n",
      "max_depth = 10: 0.7744945567651633\n"
     ]
    }
   ],
   "source": [
    "# Узнаем оптимальную глубину дерева решений\n",
    "for depth in range(1, 11):\n",
    "    model = DecisionTreeClassifier(max_depth=depth, random_state=rnd_st)\n",
    "    model.fit(train_features, train_target)\n",
    "    print('max_depth = {}: {}'.format(depth, valid_accuracy_score(model)))"
   ]
  },
  {
   "cell_type": "markdown",
   "metadata": {},
   "source": [
    "По результатам перебора видно, что значение max_depth=3 имеет лучший результат"
   ]
  },
  {
   "cell_type": "markdown",
   "metadata": {},
   "source": [
    "# Random forest"
   ]
  },
  {
   "cell_type": "code",
   "execution_count": 143,
   "metadata": {},
   "outputs": [
    {
     "name": "stdout",
     "output_type": "stream",
     "text": [
      "estim = 1     depth = 1     0.7542768273716952\n",
      "estim = 1     depth = 2     0.7853810264385692\n",
      "estim = 1     depth = 3     0.7853810264385692\n",
      "estim = 1     depth = 4     0.7744945567651633\n",
      "estim = 1     depth = 5     0.776049766718507\n",
      "estim = 1     depth = 6     0.7853810264385692\n",
      "estim = 1     depth = 7     0.7776049766718507\n",
      "estim = 1     depth = 8     0.7776049766718507\n",
      "estim = 1     depth = 9     0.7791601866251944\n",
      "estim = 1     depth = 10    0.7729393468118196\n",
      "estim = 2     depth = 1     0.7371695178849145\n",
      "estim = 2     depth = 2     0.7822706065318819\n",
      "estim = 2     depth = 3     0.7853810264385692\n",
      "estim = 2     depth = 4     0.7776049766718507\n",
      "estim = 2     depth = 5     0.7729393468118196\n",
      "estim = 2     depth = 6     0.7853810264385692\n",
      "estim = 2     depth = 7     0.7776049766718507\n",
      "estim = 2     depth = 8     0.7807153965785381\n",
      "estim = 2     depth = 9     0.7667185069984448\n",
      "estim = 2     depth = 10    0.7698289269051322\n",
      "estim = 3     depth = 1     0.7465007776049767\n",
      "estim = 3     depth = 2     0.7776049766718507\n",
      "estim = 3     depth = 3     0.7853810264385692\n",
      "estim = 3     depth = 4     0.776049766718507\n",
      "estim = 3     depth = 5     0.7884914463452566\n",
      "estim = 3     depth = 6     0.7838258164852255\n",
      "estim = 3     depth = 7     0.7869362363919129\n",
      "estim = 3     depth = 8     0.7853810264385692\n",
      "estim = 3     depth = 9     0.7791601866251944\n",
      "estim = 3     depth = 10    0.7729393468118196\n",
      "estim = 4     depth = 1     0.7682737169517885\n",
      "estim = 4     depth = 2     0.7869362363919129\n",
      "estim = 4     depth = 3     0.7838258164852255\n",
      "estim = 4     depth = 4     0.7884914463452566\n",
      "estim = 4     depth = 5     0.7853810264385692\n",
      "estim = 4     depth = 6     0.7884914463452566\n",
      "estim = 4     depth = 7     0.7869362363919129\n",
      "estim = 4     depth = 8     0.7900466562986003\n",
      "estim = 4     depth = 9     0.7791601866251944\n",
      "estim = 4     depth = 10    0.7744945567651633\n",
      "estim = 5     depth = 1     0.7558320373250389\n",
      "estim = 5     depth = 2     0.7698289269051322\n",
      "estim = 5     depth = 3     0.7838258164852255\n",
      "estim = 5     depth = 4     0.7853810264385692\n",
      "estim = 5     depth = 5     0.7884914463452566\n",
      "estim = 5     depth = 6     0.7947122861586314\n",
      "estim = 5     depth = 7     0.7916018662519441\n",
      "estim = 5     depth = 8     0.7931570762052877\n",
      "estim = 5     depth = 9     0.7791601866251944\n",
      "estim = 5     depth = 10    0.7807153965785381\n",
      "estim = 6     depth = 1     0.76049766718507\n",
      "estim = 6     depth = 2     0.7729393468118196\n",
      "estim = 6     depth = 3     0.7853810264385692\n",
      "estim = 6     depth = 4     0.7869362363919129\n",
      "estim = 6     depth = 5     0.7884914463452566\n",
      "estim = 6     depth = 6     0.7931570762052877\n",
      "estim = 6     depth = 7     0.7900466562986003\n",
      "estim = 6     depth = 8     0.7962674961119751\n",
      "estim = 6     depth = 9     0.7791601866251944\n",
      "estim = 6     depth = 10    0.7822706065318819\n",
      "estim = 7     depth = 1     0.7573872472783826\n",
      "estim = 7     depth = 2     0.7620528771384136\n",
      "estim = 7     depth = 3     0.7869362363919129\n",
      "estim = 7     depth = 4     0.7853810264385692\n",
      "estim = 7     depth = 5     0.7884914463452566\n",
      "estim = 7     depth = 6     0.7947122861586314\n",
      "estim = 7     depth = 7     0.7931570762052877\n",
      "estim = 7     depth = 8     0.7900466562986003\n",
      "estim = 7     depth = 9     0.7807153965785381\n",
      "estim = 7     depth = 10    0.7853810264385692\n",
      "estim = 8     depth = 1     0.76049766718507\n",
      "estim = 8     depth = 2     0.7698289269051322\n",
      "estim = 8     depth = 3     0.7853810264385692\n",
      "estim = 8     depth = 4     0.7916018662519441\n",
      "estim = 8     depth = 5     0.7931570762052877\n",
      "estim = 8     depth = 6     0.7993779160186625\n",
      "estim = 8     depth = 7     0.7978227060653188\n",
      "estim = 8     depth = 8     0.80248833592535\n",
      "estim = 8     depth = 9     0.7791601866251944\n",
      "estim = 8     depth = 10    0.7791601866251944\n",
      "estim = 9     depth = 1     0.7542768273716952\n",
      "estim = 9     depth = 2     0.7682737169517885\n",
      "estim = 9     depth = 3     0.7869362363919129\n",
      "estim = 9     depth = 4     0.7884914463452566\n",
      "estim = 9     depth = 5     0.7900466562986003\n",
      "estim = 9     depth = 6     0.7993779160186625\n",
      "estim = 9     depth = 7     0.7962674961119751\n",
      "estim = 9     depth = 8     0.7993779160186625\n",
      "estim = 9     depth = 9     0.7822706065318819\n",
      "estim = 9     depth = 10    0.7869362363919129\n",
      "estim = 10    depth = 1     0.7558320373250389\n",
      "estim = 10    depth = 2     0.7776049766718507\n",
      "estim = 10    depth = 3     0.7853810264385692\n",
      "estim = 10    depth = 4     0.7900466562986003\n",
      "estim = 10    depth = 5     0.7931570762052877\n",
      "estim = 10    depth = 6     0.8009331259720062\n",
      "estim = 10    depth = 7     0.7947122861586314\n",
      "estim = 10    depth = 8     0.7962674961119751\n",
      "estim = 10    depth = 9     0.7853810264385692\n",
      "estim = 10    depth = 10    0.7916018662519441\n"
     ]
    }
   ],
   "source": [
    "for estim in range(1, 11):\n",
    "    for depth in range(1, 11):\n",
    "        model = RandomForestClassifier(n_estimators=estim, max_depth=depth, random_state=rnd_st)\n",
    "        model.fit(train_features, train_target)\n",
    "        print('estim = {:<5} depth = {:<5} {}'.format(estim, depth, valid_accuracy_score(model)))"
   ]
  },
  {
   "cell_type": "markdown",
   "metadata": {},
   "source": [
    "Решил сделать такой перебор для двух значений. Да, список длинный, но за то у нас теперь есть более лучший результат. В сравнении с Decision tree, Random forest с n_estimators=8, max_depth=8 даёт результат в 0.8"
   ]
  },
  {
   "cell_type": "markdown",
   "metadata": {},
   "source": [
    "# Logistic regression"
   ]
  },
  {
   "cell_type": "code",
   "execution_count": 107,
   "metadata": {},
   "outputs": [],
   "source": [
    "def logistic_regression():\n",
    "    model = LogisticRegression(random_state=rnd_st)\n",
    "    model.fit(features_train, target_train)\n",
    "    return valid_accuracy_score(model)"
   ]
  },
  {
   "cell_type": "code",
   "execution_count": 108,
   "metadata": {},
   "outputs": [
    {
     "data": {
      "text/plain": [
       "0.7107309486780715"
      ]
     },
     "execution_count": 108,
     "metadata": {},
     "output_type": "execute_result"
    }
   ],
   "source": [
    "logistic_regression()"
   ]
  },
  {
   "cell_type": "markdown",
   "metadata": {},
   "source": [
    "Здесь у нас худший результат. Выберем Random forest"
   ]
  },
  {
   "cell_type": "markdown",
   "metadata": {},
   "source": [
    "# Проверьте модель на тестовой выборке"
   ]
  },
  {
   "cell_type": "code",
   "execution_count": 114,
   "metadata": {},
   "outputs": [],
   "source": [
    "test_features = df_test.drop(['is_ultra'], axis=1)\n",
    "test_target = df_test['is_ultra']"
   ]
  },
  {
   "cell_type": "code",
   "execution_count": 125,
   "metadata": {},
   "outputs": [
    {
     "data": {
      "text/plain": [
       "0.7962674961119751"
      ]
     },
     "execution_count": 125,
     "metadata": {},
     "output_type": "execute_result"
    }
   ],
   "source": [
    "model = RandomForestClassifier(n_estimators=8, max_depth=8, random_state=rnd_st)\n",
    "model.fit(train_features, train_target)\n",
    "test_predictions = model.predict(test_features)\n",
    "accuracy_score(test_target, test_predictions)"
   ]
  },
  {
   "cell_type": "markdown",
   "metadata": {},
   "source": [
    "Результат Random forest показывает близкие к тренировочному набору значения accuracy. Таким образом, проблем с переобучением у нашей модели нет, и её можно использовать для задачи классификации, которая выберет подходящий тариф"
   ]
  }
 ],
 "metadata": {
  "kernelspec": {
   "display_name": "Python 3",
   "language": "python",
   "name": "python3"
  },
  "language_info": {
   "codemirror_mode": {
    "name": "ipython",
    "version": 3
   },
   "file_extension": ".py",
   "mimetype": "text/x-python",
   "name": "python",
   "nbconvert_exporter": "python",
   "pygments_lexer": "ipython3",
   "version": "3.8.5"
  }
 },
 "nbformat": 4,
 "nbformat_minor": 4
}
