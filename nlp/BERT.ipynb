{
  "nbformat": 4,
  "nbformat_minor": 0,
  "metadata": {
    "colab": {
      "name": "BERT.ipynb",
      "provenance": [],
      "collapsed_sections": []
    },
    "kernelspec": {
      "display_name": "Python 3",
      "language": "python",
      "name": "python3"
    },
    "language_info": {
      "codemirror_mode": {
        "name": "ipython",
        "version": 3
      },
      "file_extension": ".py",
      "mimetype": "text/x-python",
      "name": "python",
      "nbconvert_exporter": "python",
      "pygments_lexer": "ipython3",
      "version": "3.8.5"
    },
    "widgets": {
      "application/vnd.jupyter.widget-state+json": {
        "8cc2d0f63c494521bfd555d65fedc0b2": {
          "model_module": "@jupyter-widgets/controls",
          "model_name": "HBoxModel",
          "state": {
            "_view_name": "HBoxView",
            "_dom_classes": [],
            "_model_name": "HBoxModel",
            "_view_module": "@jupyter-widgets/controls",
            "_model_module_version": "1.5.0",
            "_view_count": null,
            "_view_module_version": "1.5.0",
            "box_style": "",
            "layout": "IPY_MODEL_ecada4e1b8324a31991b9cc48a36e906",
            "_model_module": "@jupyter-widgets/controls",
            "children": [
              "IPY_MODEL_3dec012bafb2458dbdcfc1cd58924a27",
              "IPY_MODEL_75a416020c4d479d851de1f61d1597b7"
            ]
          }
        },
        "ecada4e1b8324a31991b9cc48a36e906": {
          "model_module": "@jupyter-widgets/base",
          "model_name": "LayoutModel",
          "state": {
            "_view_name": "LayoutView",
            "grid_template_rows": null,
            "right": null,
            "justify_content": null,
            "_view_module": "@jupyter-widgets/base",
            "overflow": null,
            "_model_module_version": "1.2.0",
            "_view_count": null,
            "flex_flow": null,
            "width": null,
            "min_width": null,
            "border": null,
            "align_items": null,
            "bottom": null,
            "_model_module": "@jupyter-widgets/base",
            "top": null,
            "grid_column": null,
            "overflow_y": null,
            "overflow_x": null,
            "grid_auto_flow": null,
            "grid_area": null,
            "grid_template_columns": null,
            "flex": null,
            "_model_name": "LayoutModel",
            "justify_items": null,
            "grid_row": null,
            "max_height": null,
            "align_content": null,
            "visibility": null,
            "align_self": null,
            "height": null,
            "min_height": null,
            "padding": null,
            "grid_auto_rows": null,
            "grid_gap": null,
            "max_width": null,
            "order": null,
            "_view_module_version": "1.2.0",
            "grid_template_areas": null,
            "object_position": null,
            "object_fit": null,
            "grid_auto_columns": null,
            "margin": null,
            "display": null,
            "left": null
          }
        },
        "3dec012bafb2458dbdcfc1cd58924a27": {
          "model_module": "@jupyter-widgets/controls",
          "model_name": "FloatProgressModel",
          "state": {
            "_view_name": "ProgressView",
            "style": "IPY_MODEL_74d18d48965c40c8b3954efae2607d18",
            "_dom_classes": [],
            "description": "100%",
            "_model_name": "FloatProgressModel",
            "bar_style": "success",
            "max": 3,
            "_view_module": "@jupyter-widgets/controls",
            "_model_module_version": "1.5.0",
            "value": 3,
            "_view_count": null,
            "_view_module_version": "1.5.0",
            "orientation": "horizontal",
            "min": 0,
            "description_tooltip": null,
            "_model_module": "@jupyter-widgets/controls",
            "layout": "IPY_MODEL_3e5aeb3778644b859be463139e031cff"
          }
        },
        "75a416020c4d479d851de1f61d1597b7": {
          "model_module": "@jupyter-widgets/controls",
          "model_name": "HTMLModel",
          "state": {
            "_view_name": "HTMLView",
            "style": "IPY_MODEL_a3aad5b9b89a41d89389c7fb5d9e82a4",
            "_dom_classes": [],
            "description": "",
            "_model_name": "HTMLModel",
            "placeholder": "​",
            "_view_module": "@jupyter-widgets/controls",
            "_model_module_version": "1.5.0",
            "value": " 3/3 [12:57&lt;00:00, 259.32s/it]",
            "_view_count": null,
            "_view_module_version": "1.5.0",
            "description_tooltip": null,
            "_model_module": "@jupyter-widgets/controls",
            "layout": "IPY_MODEL_3db86a48996045fc8c0bb95582495ff0"
          }
        },
        "74d18d48965c40c8b3954efae2607d18": {
          "model_module": "@jupyter-widgets/controls",
          "model_name": "ProgressStyleModel",
          "state": {
            "_view_name": "StyleView",
            "_model_name": "ProgressStyleModel",
            "description_width": "initial",
            "_view_module": "@jupyter-widgets/base",
            "_model_module_version": "1.5.0",
            "_view_count": null,
            "_view_module_version": "1.2.0",
            "bar_color": null,
            "_model_module": "@jupyter-widgets/controls"
          }
        },
        "3e5aeb3778644b859be463139e031cff": {
          "model_module": "@jupyter-widgets/base",
          "model_name": "LayoutModel",
          "state": {
            "_view_name": "LayoutView",
            "grid_template_rows": null,
            "right": null,
            "justify_content": null,
            "_view_module": "@jupyter-widgets/base",
            "overflow": null,
            "_model_module_version": "1.2.0",
            "_view_count": null,
            "flex_flow": null,
            "width": null,
            "min_width": null,
            "border": null,
            "align_items": null,
            "bottom": null,
            "_model_module": "@jupyter-widgets/base",
            "top": null,
            "grid_column": null,
            "overflow_y": null,
            "overflow_x": null,
            "grid_auto_flow": null,
            "grid_area": null,
            "grid_template_columns": null,
            "flex": null,
            "_model_name": "LayoutModel",
            "justify_items": null,
            "grid_row": null,
            "max_height": null,
            "align_content": null,
            "visibility": null,
            "align_self": null,
            "height": null,
            "min_height": null,
            "padding": null,
            "grid_auto_rows": null,
            "grid_gap": null,
            "max_width": null,
            "order": null,
            "_view_module_version": "1.2.0",
            "grid_template_areas": null,
            "object_position": null,
            "object_fit": null,
            "grid_auto_columns": null,
            "margin": null,
            "display": null,
            "left": null
          }
        },
        "a3aad5b9b89a41d89389c7fb5d9e82a4": {
          "model_module": "@jupyter-widgets/controls",
          "model_name": "DescriptionStyleModel",
          "state": {
            "_view_name": "StyleView",
            "_model_name": "DescriptionStyleModel",
            "description_width": "",
            "_view_module": "@jupyter-widgets/base",
            "_model_module_version": "1.5.0",
            "_view_count": null,
            "_view_module_version": "1.2.0",
            "_model_module": "@jupyter-widgets/controls"
          }
        },
        "3db86a48996045fc8c0bb95582495ff0": {
          "model_module": "@jupyter-widgets/base",
          "model_name": "LayoutModel",
          "state": {
            "_view_name": "LayoutView",
            "grid_template_rows": null,
            "right": null,
            "justify_content": null,
            "_view_module": "@jupyter-widgets/base",
            "overflow": null,
            "_model_module_version": "1.2.0",
            "_view_count": null,
            "flex_flow": null,
            "width": null,
            "min_width": null,
            "border": null,
            "align_items": null,
            "bottom": null,
            "_model_module": "@jupyter-widgets/base",
            "top": null,
            "grid_column": null,
            "overflow_y": null,
            "overflow_x": null,
            "grid_auto_flow": null,
            "grid_area": null,
            "grid_template_columns": null,
            "flex": null,
            "_model_name": "LayoutModel",
            "justify_items": null,
            "grid_row": null,
            "max_height": null,
            "align_content": null,
            "visibility": null,
            "align_self": null,
            "height": null,
            "min_height": null,
            "padding": null,
            "grid_auto_rows": null,
            "grid_gap": null,
            "max_width": null,
            "order": null,
            "_view_module_version": "1.2.0",
            "grid_template_areas": null,
            "object_position": null,
            "object_fit": null,
            "grid_auto_columns": null,
            "margin": null,
            "display": null,
            "left": null
          }
        }
      }
    }
  },
  "cells": [
    {
      "cell_type": "code",
      "metadata": {
        "id": "XhN6he9ETfFw"
      },
      "source": [
        "import pandas as pd\n",
        "import numpy as np\n",
        "import re\n",
        "from google.colab import drive\n",
        "\n",
        "import torch\n",
        "from transformers import BertTokenizer, BertModel, BertConfig\n",
        "\n",
        "from tqdm import tqdm, notebook"
      ],
      "execution_count": null,
      "outputs": []
    },
    {
      "cell_type": "code",
      "metadata": {
        "id": "5WMwyiIlTfF6",
        "colab": {
          "base_uri": "https://localhost:8080/"
        },
        "outputId": "00f0192c-5069-4e3e-ef51-1c579bf75181"
      },
      "source": [
        "df = pd.read_csv('toxic_comments.csv')\n",
        "n = 400\n",
        "df_bert_400 = df.sample(n=n, random_state=42).reset_index(drop=True)"
      ],
      "execution_count": null,
      "outputs": [
        {
          "output_type": "stream",
          "text": [
            "Drive already mounted at /content/gdrive; to attempt to forcibly remount, call drive.mount(\"/content/gdrive\", force_remount=True).\n"
          ],
          "name": "stdout"
        }
      ]
    },
    {
      "cell_type": "code",
      "metadata": {
        "id": "5BEhLnoc3cd2",
        "colab": {
          "base_uri": "https://localhost:8080/"
        },
        "outputId": "5aa9b0d0-9cfe-429c-b07e-f95e2d85f384"
      },
      "source": [
        "df_bert_b1 = df.loc[df['toxic'] == 1].sample(n=250, random_state=42)\n",
        "df_bert_b2 = df.loc[df['toxic'] == 0].sample(n=200, random_state=42)\n",
        "df_bert_balanced = pd.concat([df_bert_b1, df_bert_b2], ignore_index=True).sample(frac=True, random_state=42).reset_index(drop=True)\n",
        "print(df_bert_balanced['toxic'].value_counts(normalize=True), \\\n",
        "      df_bert_balanced.shape)"
      ],
      "execution_count": null,
      "outputs": [
        {
          "output_type": "stream",
          "text": [
            "1    0.555556\n",
            "0    0.444444\n",
            "Name: toxic, dtype: float64 (450, 2)\n"
          ],
          "name": "stdout"
        }
      ]
    },
    {
      "cell_type": "code",
      "metadata": {
        "id": "k09UoRmF29R-",
        "colab": {
          "base_uri": "https://localhost:8080/",
          "height": 206
        },
        "outputId": "a8336764-ef64-47e1-a380-065278fde5d2"
      },
      "source": [
        "def clean(text):\n",
        "    \n",
        "    text = text.lower()    \n",
        "    text = re.sub(r\"(?:\\n|\\r)\", \" \", text)\n",
        "    text = re.sub(r\"[^a-zA-Z ]+\", \"\", text).strip()\n",
        "    \n",
        "    return text\n",
        "\n",
        "df_bert_balanced['text_clean'] = df_bert_balanced['text'].apply(clean)\n",
        "display(df_bert_balanced.head())"
      ],
      "execution_count": null,
      "outputs": [
        {
          "output_type": "display_data",
          "data": {
            "text/html": [
              "<div>\n",
              "<style scoped>\n",
              "    .dataframe tbody tr th:only-of-type {\n",
              "        vertical-align: middle;\n",
              "    }\n",
              "\n",
              "    .dataframe tbody tr th {\n",
              "        vertical-align: top;\n",
              "    }\n",
              "\n",
              "    .dataframe thead th {\n",
              "        text-align: right;\n",
              "    }\n",
              "</style>\n",
              "<table border=\"1\" class=\"dataframe\">\n",
              "  <thead>\n",
              "    <tr style=\"text-align: right;\">\n",
              "      <th></th>\n",
              "      <th>text</th>\n",
              "      <th>toxic</th>\n",
              "      <th>text_clean</th>\n",
              "    </tr>\n",
              "  </thead>\n",
              "  <tbody>\n",
              "    <tr>\n",
              "      <th>0</th>\n",
              "      <td>\"\\n\\n Good work \\n\\n  The Tireless Contributor...</td>\n",
              "      <td>0</td>\n",
              "      <td>good work     the tireless contributor barnsta...</td>\n",
              "    </tr>\n",
              "    <tr>\n",
              "      <th>1</th>\n",
              "      <td>Actually \\n\\nDear Sir/Madame,\\n\\nThank you for...</td>\n",
              "      <td>0</td>\n",
              "      <td>actually   dear sirmadame  thank you for your ...</td>\n",
              "    </tr>\n",
              "    <tr>\n",
              "      <th>2</th>\n",
              "      <td>No wonder I'm being uncivil, when you're stupi...</td>\n",
              "      <td>1</td>\n",
              "      <td>no wonder im being uncivil when youre stupid l...</td>\n",
              "    </tr>\n",
              "    <tr>\n",
              "      <th>3</th>\n",
              "      <td>Hey Riana\\n\\nDoes it suck to know that even st...</td>\n",
              "      <td>1</td>\n",
              "      <td>hey riana  does it suck to know that even stra...</td>\n",
              "    </tr>\n",
              "    <tr>\n",
              "      <th>4</th>\n",
              "      <td>\"Complaints are repetitive when they are not r...</td>\n",
              "      <td>0</td>\n",
              "      <td>complaints are repetitive when they are not re...</td>\n",
              "    </tr>\n",
              "  </tbody>\n",
              "</table>\n",
              "</div>"
            ],
            "text/plain": [
              "                                                text  ...                                         text_clean\n",
              "0  \"\\n\\n Good work \\n\\n  The Tireless Contributor...  ...  good work     the tireless contributor barnsta...\n",
              "1  Actually \\n\\nDear Sir/Madame,\\n\\nThank you for...  ...  actually   dear sirmadame  thank you for your ...\n",
              "2  No wonder I'm being uncivil, when you're stupi...  ...  no wonder im being uncivil when youre stupid l...\n",
              "3  Hey Riana\\n\\nDoes it suck to know that even st...  ...  hey riana  does it suck to know that even stra...\n",
              "4  \"Complaints are repetitive when they are not r...  ...  complaints are repetitive when they are not re...\n",
              "\n",
              "[5 rows x 3 columns]"
            ]
          },
          "metadata": {
            "tags": []
          }
        }
      ]
    },
    {
      "cell_type": "code",
      "metadata": {
        "id": "a-C1-j6_TfGM",
        "colab": {
          "base_uri": "https://localhost:8080/"
        },
        "outputId": "7f6c202c-2655-4913-8d4a-e4ad7bc72d35"
      },
      "source": [
        "tokenizer = BertTokenizer.from_pretrained('bert-base-uncased')\n",
        "\n",
        "tokenized = df_bert_balanced['text_clean'].apply(lambda x: tokenizer.encode(x, add_special_tokens=True, max_length=512))\n",
        "\n",
        "max_len = 0\n",
        "for i in tokenized.values:\n",
        "    if len(i) > max_len:\n",
        "        max_len = len(i)\n",
        "\n",
        "padded = np.array([i + [0]*(max_len - len(i)) for i in tokenized.values])\n",
        "\n",
        "attention_mask = np.where(padded != 0, 1, 0)"
      ],
      "execution_count": null,
      "outputs": [
        {
          "output_type": "stream",
          "text": [
            "Truncation was not explicitly activated but `max_length` is provided a specific value, please use `truncation=True` to explicitly truncate examples to max length. Defaulting to 'longest_first' truncation strategy. If you encode pairs of sequences (GLUE-style) with the tokenizer you can select this strategy more precisely by providing a specific strategy to `truncation`.\n"
          ],
          "name": "stderr"
        }
      ]
    },
    {
      "cell_type": "code",
      "metadata": {
        "id": "Dc85Nr5mTfGS",
        "scrolled": false
      },
      "source": [
        "config = BertConfig.from_pretrained('bert-base-uncased')\n",
        "model = BertModel.from_pretrained('bert-base-uncased', config=config)"
      ],
      "execution_count": null,
      "outputs": []
    },
    {
      "cell_type": "code",
      "metadata": {
        "id": "C3OF9oTwTfGY",
        "colab": {
          "base_uri": "https://localhost:8080/",
          "height": 67,
          "referenced_widgets": [
            "8cc2d0f63c494521bfd555d65fedc0b2",
            "ecada4e1b8324a31991b9cc48a36e906",
            "3dec012bafb2458dbdcfc1cd58924a27",
            "75a416020c4d479d851de1f61d1597b7",
            "74d18d48965c40c8b3954efae2607d18",
            "3e5aeb3778644b859be463139e031cff",
            "a3aad5b9b89a41d89389c7fb5d9e82a4",
            "3db86a48996045fc8c0bb95582495ff0"
          ]
        },
        "outputId": "058d3760-db56-4ae6-a811-26be8f20fb11"
      },
      "source": [
        "batch_size = 150\n",
        "embeddings = []\n",
        "for i in notebook.tqdm(range(padded.shape[0] // batch_size)):\n",
        "        batch = torch.LongTensor(padded[batch_size*i:batch_size*(i+1)]) \n",
        "        attention_mask_batch = torch.LongTensor(attention_mask[batch_size*i:batch_size*(i+1)])\n",
        "        \n",
        "        with torch.no_grad():\n",
        "            batch_embeddings = model(batch, attention_mask=attention_mask_batch)\n",
        "        \n",
        "        embeddings.append(batch_embeddings[0][:,0,:].numpy())"
      ],
      "execution_count": null,
      "outputs": [
        {
          "output_type": "display_data",
          "data": {
            "application/vnd.jupyter.widget-view+json": {
              "model_id": "8cc2d0f63c494521bfd555d65fedc0b2",
              "version_minor": 0,
              "version_major": 2
            },
            "text/plain": [
              "HBox(children=(FloatProgress(value=0.0, max=3.0), HTML(value='')))"
            ]
          },
          "metadata": {
            "tags": []
          }
        },
        {
          "output_type": "stream",
          "text": [
            "\n"
          ],
          "name": "stdout"
        }
      ]
    },
    {
      "cell_type": "code",
      "metadata": {
        "id": "sVAH08h-TfGe",
        "colab": {
          "base_uri": "https://localhost:8080/"
        },
        "outputId": "942114b7-07f9-4a0e-8dfe-eb2b41064dfa"
      },
      "source": [
        "features = np.concatenate(embeddings)\n",
        "print(features.shape, df_bert_balanced.shape)"
      ],
      "execution_count": null,
      "outputs": [
        {
          "output_type": "stream",
          "text": [
            "(450, 768) (450, 3)\n"
          ],
          "name": "stdout"
        }
      ]
    },
    {
      "cell_type": "code",
      "metadata": {
        "id": "afhi-Lv_zI_w"
      },
      "source": [
        "pd.DataFrame(features).to_csv('features_bert.csv', index=False)\n",
        "df_bert_balanced.to_csv('df_bert_balanced.csv', index=False)"
      ],
      "execution_count": null,
      "outputs": []
    }
  ]
}